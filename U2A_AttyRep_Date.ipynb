{
 "cells": [
  {
   "cell_type": "markdown",
   "metadata": {},
   "source": [
    "## U2A RESEARCH: Study when attorney gets involved "
   ]
  },
  {
   "cell_type": "code",
   "execution_count": 1,
   "metadata": {},
   "outputs": [],
   "source": [
    "#import relevant libraries\n",
    "\n",
    "import pandas as pd\n",
    "import pyodbc as pyo\n",
    "import numpy as np\n",
    "import matplotlib.pyplot as plt\n",
    "import os\n",
    "from pgr_credentials import get_credential\n",
    "\n",
    "import warnings\n",
    "warnings.filterwarnings(\"ignore\")"
   ]
  },
  {
   "cell_type": "code",
   "execution_count": 2,
   "metadata": {},
   "outputs": [],
   "source": [
    "#store credentials \n",
    "username = get_credential('USERNAME').lower() #needs to be lowercase LANID for Hadoop\n",
    "pwd = get_credential('PASSWORD')"
   ]
  },
  {
   "cell_type": "code",
   "execution_count": 3,
   "metadata": {},
   "outputs": [],
   "source": [
    "#connect to claims injury DB tables \n",
    "CLAIMSINJURY = pyo.connect(dsn='CLAIMSINJURY', autocommit=True)\n"
   ]
  },
  {
   "cell_type": "markdown",
   "metadata": {},
   "source": [
    "### Claims (2021) with attorney represented indicator\n",
    "### (AU, BI Cases that attorney repped after feature open without CWPs)"
   ]
  },
  {
   "cell_type": "code",
   "execution_count": 4,
   "metadata": {},
   "outputs": [
    {
     "name": "stdout",
     "output_type": "stream",
     "text": [
      "(510414, 15)\n"
     ]
    }
   ],
   "source": [
    "#pulling feature level informaiton\n",
    "injury_Atty = pd.read_sql(\"\"\"\n",
    "select A.*\n",
    "from\n",
    "(\n",
    "SELECT distinct \n",
    "\t   I.ClaimYear\n",
    "       ,I.ClaimNbr\n",
    "\t   ,I.featureseqnbr\n",
    "\t   ,I.partyrecordseqnbr\n",
    "\t   ,I.featurestatusdesc\n",
    "\t   ,I.claimreportdatetime\n",
    "\t   ,I.featureopendatetime\n",
    "\t   ,I.featureclosedatetime\n",
    "\t   ,case when AttyInfo.EarliestAttorneyRepDate is not null then 1 else 0 end as AttyRep\n",
    "       ,case when I.FeatureCloseDatetime is not null and I.featurepaymentamt=0 and Offer.NoteDateTime is null and datediff(day,I.FeatureOpenDatetime,I.FeatureCloseDatetime)<=2 then 1 else 0 end as EarlyCWPs\n",
    "\t   ,case when AttyInfo.EarliestAttorneyRepDate is not null  and I.featureopendatetime is not null\n",
    "\t   and datediff(day,I.featureopendatetime,AttyInfo.EarliestAttorneyRepDate)<0 then 1 else 0 end as EarlyAtty /*Early Atty indicator*/\n",
    "\t   ,AttyInfo.EarliestAttorneyRepDate\n",
    "\t   ,case when AttyInfo.EarliestAttorneyRepDate is not null  and I.featureopendatetime is not null\n",
    "\t    then datediff(day,I.featureopendatetime,AttyInfo.EarliestAttorneyRepDate) end as Days_Fea_Atty\n",
    "\t    ,case when AttyInfo.EarliestAttorneyRepDate is not null  and I.claimreportdatetime is not null\n",
    "\t    then datediff(day,I.claimreportdatetime,AttyInfo.EarliestAttorneyRepDate) end as Days_Clm_Atty\n",
    "\t    ,case when I.featureopendatetime is not null and I.claimreportdatetime is not null\n",
    "\t    then datediff(day,I.claimreportdatetime,I.featureopendatetime) end as Days_Clm_Fea\n",
    "FROM [ClaimsInjury].[dbo].[VW_InjuryPlus] I\n",
    "\tLEFT JOIN (\n",
    "\t\t/* First Attorney Date Per Party */\n",
    "\t\tSELECT\t\tClaimYear,\n",
    "\t\t\t\t\tClaimNbr,\n",
    "\t\t\t\t\tPartyRecordSeqNbr,\n",
    "\t\t\t\t\tMIN(HistStartTmstmp) AS EarliestAttorneyRepDate\n",
    "\t\tFROM\t\tClaimsInjury.dbo.VW_AttorneyDetail\n",
    "\t\tWHERE\t\tPartyAttorneyRepresentedInd = 1\n",
    "\t\tGROUP BY\tClaimYear,\n",
    "\t\t\t\t\tClaimNbr,\n",
    "\t\t\t\t\tPartyRecordSeqNbr\n",
    "\t) AS AttyInfo\n",
    "\tON\tI.ClaimYear=AttyInfo.ClaimYear AND I.ClaimNbr=AttyInfo.ClaimNbr AND I.PartyRecordSeqNbr=AttyInfo.PartyRecordSeqNbr\n",
    "    left join ClaimsInjury.dbo.VW_InjuryEventDetail Offer on I.ClaimYear=Offer.ClaimYear and I.ClaimNbr=Offer.ClaimNbr and I.FeatureSeqNbr=Offer.FeatureSeqNbr and Offer.InjuryEventTypeId = '8'\n",
    "and Offer.FirstInjuryEventTypeInd = '1'\n",
    "Where  (I.claimreportacctmonth between 202101 and 202112)\n",
    "     and I.productcategorycode='AU' and I.linecovcategorydesc='BI' and I.featureopendatetime is not null\n",
    ") as A\n",
    "where EarlyAtty = 0 and EarlyCWPs=0\n",
    "\n",
    "\"\"\",CLAIMSINJURY)\n",
    "\n",
    "print(injury_Atty.shape)"
   ]
  },
  {
   "cell_type": "code",
   "execution_count": 5,
   "metadata": {},
   "outputs": [
    {
     "name": "stdout",
     "output_type": "stream",
     "text": [
      "AttyRep unique values:  [0 1]\n",
      "AttyRep=1:  226170\n",
      "AttyRep percent:  0.4431108864568762\n"
     ]
    }
   ],
   "source": [
    "\n",
    "print('AttyRep unique values: ',injury_Atty['AttyRep'].unique())\n",
    "print('AttyRep=1: ', injury_Atty['AttyRep'].sum())\n",
    "print('AttyRep percent: ',injury_Atty['AttyRep'].sum()/injury_Atty['AttyRep'].count())"
   ]
  },
  {
   "cell_type": "markdown",
   "metadata": {},
   "source": [
    "### Days to Attorney rep date after feature open\n",
    "### 1. Freqency analysis"
   ]
  },
  {
   "cell_type": "code",
   "execution_count": 6,
   "metadata": {},
   "outputs": [
    {
     "name": "stdout",
     "output_type": "stream",
     "text": [
      "                count  cum_sum   cum_perc\n",
      "Days_Fea_Atty                            \n",
      "0.0            104160   104160  46.053853\n",
      "1.0             12815   116975  51.719945\n",
      "2.0              7524   124499  55.046646\n",
      "3.0              6696   131195  58.007251\n",
      "4.0              5953   137148  60.639342\n",
      "5.0              5246   142394  62.958836\n",
      "6.0              5727   148121  65.491002\n",
      "7.0              6418   154539  68.328691\n",
      "8.0              4839   159378  70.468232\n",
      "9.0              3296   162674  71.925543\n",
      "10.0             2994   165668  73.249326\n",
      "11.0             2727   168395  74.455056\n",
      "12.0             2551   170946  75.582969\n",
      "13.0             2686   173632  76.770571\n",
      "14.0             3219   176851  78.193836\n",
      "15.0             2447   179298  79.275766\n",
      "16.0             1885   181183  80.109210\n",
      "17.0             1600   182783  80.816642\n",
      "18.0             1416   184199  81.442720\n",
      "19.0             1354   185553  82.041385\n",
      "20.0             1696   187249  82.791263\n",
      "21.0             1895   189144  83.629129\n",
      "22.0             1398   190542  84.247248\n",
      "23.0             1121   191663  84.742893\n",
      "24.0             1059   192722  85.211124\n",
      "25.0              941   193663  85.627183\n",
      "26.0              870   194533  86.011849\n",
      "27.0             1091   195624  86.494230\n",
      "28.0             1174   196798  87.013309\n",
      "29.0             1011   197809  87.460317\n"
     ]
    }
   ],
   "source": [
    "#frequency calculation for values in Days_Fea_Atty\n",
    "\n",
    "Days_Fea_Atty_df = pd.DataFrame(injury_Atty['Days_Fea_Atty'].value_counts().sort_index())\n",
    "Days_Fea_Atty_df.index.name='Days_Fea_Atty'\n",
    "Days_Fea_Atty_df.columns=['count']\n",
    "Days_Fea_Atty_df['cum_sum'] = Days_Fea_Atty_df['count'].cumsum()\n",
    "Days_Fea_Atty_df['cum_perc'] = 100*Days_Fea_Atty_df['cum_sum']/Days_Fea_Atty_df['count'].sum()\n",
    "\n",
    "print(Days_Fea_Atty_df.head(30))\n"
   ]
  },
  {
   "cell_type": "code",
   "execution_count": 7,
   "metadata": {},
   "outputs": [
    {
     "name": "stdout",
     "output_type": "stream",
     "text": [
      "70.0\n"
     ]
    }
   ],
   "source": [
    "#calculate curve knee point \n",
    "#(If curve=”concave”, kneed will detect knees. If curve=”convex”, it will detect elbows.)\n",
    "from kneed import KneeLocator\n",
    "kn = KneeLocator(Days_Fea_Atty_df.index,Days_Fea_Atty_df['cum_perc'], curve='concave', direction='increasing', S=1)\n",
    "print(kn.knee)\n"
   ]
  },
  {
   "cell_type": "code",
   "execution_count": 8,
   "metadata": {},
   "outputs": [
    {
     "data": {
      "image/png": "[encoded data removed]",
      "text/plain": [
       "<Figure size 640x480 with 1 Axes>"
      ]
     },
     "metadata": {},
     "output_type": "display_data"
    }
   ],
   "source": [
    "plt.plot(Days_Fea_Atty_df.index,Days_Fea_Atty_df['cum_perc'])\n",
    "plt.vlines(kn.knee, plt.ylim()[0], plt.ylim()[1], linestyles='dashed', colors='red')\n",
    "plt.show()"
   ]
  },
  {
   "cell_type": "markdown",
   "metadata": {},
   "source": [
    "### 2.Survival analysis"
   ]
  },
  {
   "cell_type": "code",
   "execution_count": 9,
   "metadata": {},
   "outputs": [
    {
     "name": "stdout",
     "output_type": "stream",
     "text": [
      "(226170, 2)\n"
     ]
    }
   ],
   "source": [
    "# getting data for Attorney repped \n",
    "Days_Fea_Atty_AttyInd =injury_Atty[['Days_Fea_Atty', 'AttyRep']].dropna()\n",
    "print(Days_Fea_Atty_AttyInd.shape)"
   ]
  },
  {
   "cell_type": "code",
   "execution_count": 10,
   "metadata": {},
   "outputs": [],
   "source": [
    "# Create an object for KaplanMeierFitter\n",
    "from lifelines import KaplanMeierFitter\n",
    "kmf = KaplanMeierFitter()"
   ]
  },
  {
   "cell_type": "code",
   "execution_count": 11,
   "metadata": {},
   "outputs": [],
   "source": [
    "#fit kmf\n",
    "kmf = kmf.fit(durations=Days_Fea_Atty_AttyInd['Days_Fea_Atty'], event_observed=Days_Fea_Atty_AttyInd['AttyRep'])\n"
   ]
  },
  {
   "cell_type": "code",
   "execution_count": 12,
   "metadata": {},
   "outputs": [
    {
     "data": {
      "text/plain": [
       "0.3167130919220057"
      ]
     },
     "execution_count": 12,
     "metadata": {},
     "output_type": "execute_result"
    }
   ],
   "source": [
    "#kmf prediction\n",
    "kmf.predict(7)"
   ]
  },
  {
   "cell_type": "code",
   "execution_count": 13,
   "metadata": {},
   "outputs": [
    {
     "data": {
      "image/png": "[encoded data removed]",
      "text/plain": [
       "<Figure size 640x480 with 1 Axes>"
      ]
     },
     "metadata": {},
     "output_type": "display_data"
    }
   ],
   "source": [
    "#plot out kmf curve\n",
    "kmf.plot()\n",
    "plt.show()"
   ]
  },
  {
   "cell_type": "code",
   "execution_count": 14,
   "metadata": {},
   "outputs": [
    {
     "data": {
      "text/plain": [
       "<AxesSubplot:xlabel='timeline'>"
      ]
     },
     "execution_count": 14,
     "metadata": {},
     "output_type": "execute_result"
    },
    {
     "data": {
      "image/png": "[encoded data removed]",
      "text/plain": [
       "<Figure size 640x480 with 1 Axes>"
      ]
     },
     "metadata": {},
     "output_type": "display_data"
    }
   ],
   "source": [
    "#kmf limited time duration\n",
    "plt.xlim([0, 10])\n",
    "plt.vlines(8, plt.ylim()[0], plt.ylim()[1],colors='red',linestyles='dashed')\n",
    "kmf.plot()"
   ]
  },
  {
   "cell_type": "code",
   "execution_count": 15,
   "metadata": {},
   "outputs": [
    {
     "data": {
      "text/html": [
       "<div>\n",
       "<style scoped>\n",
       "    .dataframe tbody tr th:only-of-type {\n",
       "        vertical-align: middle;\n",
       "    }\n",
       "\n",
       "    .dataframe tbody tr th {\n",
       "        vertical-align: top;\n",
       "    }\n",
       "\n",
       "    .dataframe thead th {\n",
       "        text-align: right;\n",
       "    }\n",
       "</style>\n",
       "<table border=\"1\" class=\"dataframe\">\n",
       "  <thead>\n",
       "    <tr style=\"text-align: right;\">\n",
       "      <th></th>\n",
       "      <th>removed</th>\n",
       "      <th>observed</th>\n",
       "      <th>censored</th>\n",
       "      <th>entrance</th>\n",
       "      <th>at_risk</th>\n",
       "    </tr>\n",
       "    <tr>\n",
       "      <th>event_at</th>\n",
       "      <th></th>\n",
       "      <th></th>\n",
       "      <th></th>\n",
       "      <th></th>\n",
       "      <th></th>\n",
       "    </tr>\n",
       "  </thead>\n",
       "  <tbody>\n",
       "    <tr>\n",
       "      <th>0.0</th>\n",
       "      <td>104160</td>\n",
       "      <td>104160</td>\n",
       "      <td>0</td>\n",
       "      <td>226170</td>\n",
       "      <td>226170</td>\n",
       "    </tr>\n",
       "    <tr>\n",
       "      <th>1.0</th>\n",
       "      <td>12815</td>\n",
       "      <td>12815</td>\n",
       "      <td>0</td>\n",
       "      <td>0</td>\n",
       "      <td>122010</td>\n",
       "    </tr>\n",
       "    <tr>\n",
       "      <th>2.0</th>\n",
       "      <td>7524</td>\n",
       "      <td>7524</td>\n",
       "      <td>0</td>\n",
       "      <td>0</td>\n",
       "      <td>109195</td>\n",
       "    </tr>\n",
       "    <tr>\n",
       "      <th>3.0</th>\n",
       "      <td>6696</td>\n",
       "      <td>6696</td>\n",
       "      <td>0</td>\n",
       "      <td>0</td>\n",
       "      <td>101671</td>\n",
       "    </tr>\n",
       "    <tr>\n",
       "      <th>4.0</th>\n",
       "      <td>5953</td>\n",
       "      <td>5953</td>\n",
       "      <td>0</td>\n",
       "      <td>0</td>\n",
       "      <td>94975</td>\n",
       "    </tr>\n",
       "    <tr>\n",
       "      <th>5.0</th>\n",
       "      <td>5246</td>\n",
       "      <td>5246</td>\n",
       "      <td>0</td>\n",
       "      <td>0</td>\n",
       "      <td>89022</td>\n",
       "    </tr>\n",
       "    <tr>\n",
       "      <th>6.0</th>\n",
       "      <td>5727</td>\n",
       "      <td>5727</td>\n",
       "      <td>0</td>\n",
       "      <td>0</td>\n",
       "      <td>83776</td>\n",
       "    </tr>\n",
       "    <tr>\n",
       "      <th>7.0</th>\n",
       "      <td>6418</td>\n",
       "      <td>6418</td>\n",
       "      <td>0</td>\n",
       "      <td>0</td>\n",
       "      <td>78049</td>\n",
       "    </tr>\n",
       "    <tr>\n",
       "      <th>8.0</th>\n",
       "      <td>4839</td>\n",
       "      <td>4839</td>\n",
       "      <td>0</td>\n",
       "      <td>0</td>\n",
       "      <td>71631</td>\n",
       "    </tr>\n",
       "    <tr>\n",
       "      <th>9.0</th>\n",
       "      <td>3296</td>\n",
       "      <td>3296</td>\n",
       "      <td>0</td>\n",
       "      <td>0</td>\n",
       "      <td>66792</td>\n",
       "    </tr>\n",
       "  </tbody>\n",
       "</table>\n",
       "</div>"
      ],
      "text/plain": [
       "          removed  observed  censored  entrance  at_risk\n",
       "event_at                                                \n",
       "0.0        104160    104160         0    226170   226170\n",
       "1.0         12815     12815         0         0   122010\n",
       "2.0          7524      7524         0         0   109195\n",
       "3.0          6696      6696         0         0   101671\n",
       "4.0          5953      5953         0         0    94975\n",
       "5.0          5246      5246         0         0    89022\n",
       "6.0          5727      5727         0         0    83776\n",
       "7.0          6418      6418         0         0    78049\n",
       "8.0          4839      4839         0         0    71631\n",
       "9.0          3296      3296         0         0    66792"
      ]
     },
     "execution_count": 15,
     "metadata": {},
     "output_type": "execute_result"
    }
   ],
   "source": [
    "kmf.event_table.head(10)"
   ]
  },
  {
   "cell_type": "code",
   "execution_count": null,
   "metadata": {},
   "outputs": [],
   "source": []
  }
 ],
 "metadata": {
  "kernelspec": {
   "display_name": "Python 3 (ipykernel)",
   "language": "python",
   "name": "python3"
  },
  "language_info": {
   "codemirror_mode": {
    "name": "ipython",
    "version": 3
   },
   "file_extension": ".py",
   "mimetype": "text/x-python",
   "name": "python",
   "nbconvert_exporter": "python",
   "pygments_lexer": "ipython3",
   "version": "3.9.13"
  },
  "vscode": {
   "interpreter": {
    "hash": "0abaa69708b681468dc106407a50a150df232ecf611a72a3ee1b5d74ec1aee2f"
   }
  }
 },
 "nbformat": 4,
 "nbformat_minor": 4
}
